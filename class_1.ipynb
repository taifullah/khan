{
 "cells": [
  {
   "cell_type": "code",
   "execution_count": 9,
   "metadata": {},
   "outputs": [
    {
     "name": "stdout",
     "output_type": "stream",
     "text": [
      "name =\"{name}\"message = \"{message}number = '{const}\n"
     ]
    }
   ],
   "source": [
    "message = \"hamza\"\n",
    "name :str= \"khaan\"\n",
    "# print(message.title())\n",
    "const :int = 6\n",
    "\n",
    "# print(\"this is my program\"+message+name)\n",
    "# print(name.upper())\n",
    "# print(name.lower())\n",
    "\n",
    "# print(name+'  jhjl '+message)\n",
    "\n",
    "print(f\"\"\"name =\"{name}\"message = \"{message}number = '{const}\"\"\")"
   ]
  },
  {
   "cell_type": "code",
   "execution_count": 4,
   "metadata": {},
   "outputs": [
    {
     "name": "stdout",
     "output_type": "stream",
     "text": [
      "khaan\n"
     ]
    }
   ],
   "source": []
  }
 ],
 "metadata": {
  "kernelspec": {
   "display_name": "python_class",
   "language": "python",
   "name": "python3"
  },
  "language_info": {
   "codemirror_mode": {
    "name": "ipython",
    "version": 3
   },
   "file_extension": ".py",
   "mimetype": "text/x-python",
   "name": "python",
   "nbconvert_exporter": "python",
   "pygments_lexer": "ipython3",
   "version": "3.11.6"
  }
 },
 "nbformat": 4,
 "nbformat_minor": 2
}
